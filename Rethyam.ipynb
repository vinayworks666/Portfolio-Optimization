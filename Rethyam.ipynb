{
  "nbformat": 4,
  "nbformat_minor": 0,
  "metadata": {
    "colab": {
      "name": "Rethyam.ipynb",
      "provenance": [],
      "collapsed_sections": []
    },
    "kernelspec": {
      "name": "python3",
      "display_name": "Python 3"
    },
    "language_info": {
      "name": "python"
    }
  },
  "cells": [
    {
      "cell_type": "code",
      "metadata": {
        "colab": {
          "base_uri": "https://localhost:8080/"
        },
        "id": "V308Q4oI2uhE",
        "outputId": "02673c04-73ed-45fa-d520-ea0baea5b690"
      },
      "source": [
        "!pip install yfinance\n",
        "!pip install yahoofinancials\n",
        "!pip install matplotlib"
      ],
      "execution_count": null,
      "outputs": [
        {
          "output_type": "stream",
          "name": "stdout",
          "text": [
            "Requirement already satisfied: yfinance in /usr/local/lib/python3.7/dist-packages (0.1.63)\n",
            "Requirement already satisfied: multitasking>=0.0.7 in /usr/local/lib/python3.7/dist-packages (from yfinance) (0.0.9)\n",
            "Requirement already satisfied: requests>=2.20 in /usr/local/lib/python3.7/dist-packages (from yfinance) (2.23.0)\n",
            "Requirement already satisfied: numpy>=1.15 in /usr/local/lib/python3.7/dist-packages (from yfinance) (1.19.5)\n",
            "Requirement already satisfied: pandas>=0.24 in /usr/local/lib/python3.7/dist-packages (from yfinance) (1.1.5)\n",
            "Requirement already satisfied: lxml>=4.5.1 in /usr/local/lib/python3.7/dist-packages (from yfinance) (4.6.3)\n",
            "Requirement already satisfied: python-dateutil>=2.7.3 in /usr/local/lib/python3.7/dist-packages (from pandas>=0.24->yfinance) (2.8.2)\n",
            "Requirement already satisfied: pytz>=2017.2 in /usr/local/lib/python3.7/dist-packages (from pandas>=0.24->yfinance) (2018.9)\n",
            "Requirement already satisfied: six>=1.5 in /usr/local/lib/python3.7/dist-packages (from python-dateutil>=2.7.3->pandas>=0.24->yfinance) (1.15.0)\n",
            "Requirement already satisfied: chardet<4,>=3.0.2 in /usr/local/lib/python3.7/dist-packages (from requests>=2.20->yfinance) (3.0.4)\n",
            "Requirement already satisfied: urllib3!=1.25.0,!=1.25.1,<1.26,>=1.21.1 in /usr/local/lib/python3.7/dist-packages (from requests>=2.20->yfinance) (1.24.3)\n",
            "Requirement already satisfied: idna<3,>=2.5 in /usr/local/lib/python3.7/dist-packages (from requests>=2.20->yfinance) (2.10)\n",
            "Requirement already satisfied: certifi>=2017.4.17 in /usr/local/lib/python3.7/dist-packages (from requests>=2.20->yfinance) (2021.5.30)\n",
            "Requirement already satisfied: yahoofinancials in /usr/local/lib/python3.7/dist-packages (1.6)\n",
            "Requirement already satisfied: pytz in /usr/local/lib/python3.7/dist-packages (from yahoofinancials) (2018.9)\n",
            "Requirement already satisfied: beautifulsoup4 in /usr/local/lib/python3.7/dist-packages (from yahoofinancials) (4.6.3)\n",
            "Requirement already satisfied: matplotlib in /usr/local/lib/python3.7/dist-packages (3.2.2)\n",
            "Requirement already satisfied: kiwisolver>=1.0.1 in /usr/local/lib/python3.7/dist-packages (from matplotlib) (1.3.2)\n",
            "Requirement already satisfied: cycler>=0.10 in /usr/local/lib/python3.7/dist-packages (from matplotlib) (0.10.0)\n",
            "Requirement already satisfied: python-dateutil>=2.1 in /usr/local/lib/python3.7/dist-packages (from matplotlib) (2.8.2)\n",
            "Requirement already satisfied: numpy>=1.11 in /usr/local/lib/python3.7/dist-packages (from matplotlib) (1.19.5)\n",
            "Requirement already satisfied: pyparsing!=2.0.4,!=2.1.2,!=2.1.6,>=2.0.1 in /usr/local/lib/python3.7/dist-packages (from matplotlib) (2.4.7)\n",
            "Requirement already satisfied: six in /usr/local/lib/python3.7/dist-packages (from cycler>=0.10->matplotlib) (1.15.0)\n"
          ]
        }
      ]
    },
    {
      "cell_type": "markdown",
      "metadata": {
        "id": "Y90MbQXf9_vW"
      },
      "source": [
        "1) I distinctly chose stocks from different sectors, but due to time constraint on my side i was not able to do much research. so i just chose the best performing stocks.\n",
        "2) More the number of stocks in the portfolio lesser the risk of loss is as the number of stocks diversifies ur wealth distribution.\n",
        "3)Equal weight can not be given to every stock as some might be performing low while some might be at their best.\n",
        "4)Mean-Variance Optimization."
      ]
    },
    {
      "cell_type": "code",
      "metadata": {
        "id": "m6QjGutI2zyG"
      },
      "source": [
        "import yfinance as yf\n",
        "import yahoofinancials\n",
        "import pandas as pd\n",
        "import pandas_datareader.data as web\n",
        "import matplotlib.pyplot as plt\n",
        "import numpy as np\n",
        "pd.options.display.float_format = '{:.5f}'.format"
      ],
      "execution_count": null,
      "outputs": []
    },
    {
      "cell_type": "code",
      "metadata": {
        "colab": {
          "base_uri": "https://localhost:8080/",
          "height": 542
        },
        "id": "eXeaMeoLruzi",
        "outputId": "081076cd-4081-41ae-d128-a42da48443ca"
      },
      "source": [
        "data = []\n",
        "\n",
        "#list of stocks in portfolio\n",
        "stocks = ['RELIANCE.NS','BAJAJ-AUTO.NS','HDFCBANK.NS','TCS.NS', 'ASIANPAINT.NS']\n",
        "\n",
        "#download daily price data for each of the stocks in the portfolio\n",
        "# 01/04/2015-31/03/2017\n",
        "for t in stocks:\n",
        "  data.append(yf.download(t, \n",
        "                      start='2015-04-01', \n",
        "                      end='2017-03-31'\n",
        "                      ))\n",
        "data = pd.concat([data[0]['Adj Close'], data[1]['Adj Close'], data[2]['Adj Close'], data[3]['Adj Close'], data[4]['Adj Close']], axis=1)\n",
        "data"
      ],
      "execution_count": null,
      "outputs": [
        {
          "output_type": "stream",
          "name": "stdout",
          "text": [
            "[*********************100%***********************]  1 of 1 completed\n",
            "[*********************100%***********************]  1 of 1 completed\n",
            "[*********************100%***********************]  1 of 1 completed\n",
            "[*********************100%***********************]  1 of 1 completed\n",
            "[*********************100%***********************]  1 of 1 completed\n"
          ]
        },
        {
          "output_type": "execute_result",
          "data": {
            "text/html": [
              "<div>\n",
              "<style scoped>\n",
              "    .dataframe tbody tr th:only-of-type {\n",
              "        vertical-align: middle;\n",
              "    }\n",
              "\n",
              "    .dataframe tbody tr th {\n",
              "        vertical-align: top;\n",
              "    }\n",
              "\n",
              "    .dataframe thead th {\n",
              "        text-align: right;\n",
              "    }\n",
              "</style>\n",
              "<table border=\"1\" class=\"dataframe\">\n",
              "  <thead>\n",
              "    <tr style=\"text-align: right;\">\n",
              "      <th></th>\n",
              "      <th>Adj Close</th>\n",
              "      <th>Adj Close</th>\n",
              "      <th>Adj Close</th>\n",
              "      <th>Adj Close</th>\n",
              "      <th>Adj Close</th>\n",
              "    </tr>\n",
              "    <tr>\n",
              "      <th>Date</th>\n",
              "      <th></th>\n",
              "      <th></th>\n",
              "      <th></th>\n",
              "      <th></th>\n",
              "      <th></th>\n",
              "    </tr>\n",
              "  </thead>\n",
              "  <tbody>\n",
              "    <tr>\n",
              "      <th>2015-04-01</th>\n",
              "      <td>394.76492</td>\n",
              "      <td>1680.06702</td>\n",
              "      <td>495.67850</td>\n",
              "      <td>1115.86743</td>\n",
              "      <td>784.87573</td>\n",
              "    </tr>\n",
              "    <tr>\n",
              "      <th>2015-04-06</th>\n",
              "      <td>389.38205</td>\n",
              "      <td>1693.87488</td>\n",
              "      <td>495.05484</td>\n",
              "      <td>1117.90820</td>\n",
              "      <td>787.55029</td>\n",
              "    </tr>\n",
              "    <tr>\n",
              "      <th>2015-04-07</th>\n",
              "      <td>393.25388</td>\n",
              "      <td>1742.24414</td>\n",
              "      <td>495.43863</td>\n",
              "      <td>1134.45288</td>\n",
              "      <td>797.77075</td>\n",
              "    </tr>\n",
              "    <tr>\n",
              "      <th>2015-04-08</th>\n",
              "      <td>408.85944</td>\n",
              "      <td>1746.36145</td>\n",
              "      <td>496.78186</td>\n",
              "      <td>1159.20471</td>\n",
              "      <td>808.89868</td>\n",
              "    </tr>\n",
              "    <tr>\n",
              "      <th>2015-04-09</th>\n",
              "      <td>422.64703</td>\n",
              "      <td>1745.57129</td>\n",
              "      <td>506.64023</td>\n",
              "      <td>1169.36450</td>\n",
              "      <td>814.91638</td>\n",
              "    </tr>\n",
              "    <tr>\n",
              "      <th>...</th>\n",
              "      <td>...</td>\n",
              "      <td>...</td>\n",
              "      <td>...</td>\n",
              "      <td>...</td>\n",
              "      <td>...</td>\n",
              "    </tr>\n",
              "    <tr>\n",
              "      <th>2017-03-24</th>\n",
              "      <td>621.01630</td>\n",
              "      <td>2470.45801</td>\n",
              "      <td>694.08618</td>\n",
              "      <td>1107.33398</td>\n",
              "      <td>1033.12341</td>\n",
              "    </tr>\n",
              "    <tr>\n",
              "      <th>2017-03-27</th>\n",
              "      <td>603.81079</td>\n",
              "      <td>2440.39136</td>\n",
              "      <td>687.02039</td>\n",
              "      <td>1100.42249</td>\n",
              "      <td>1012.39783</td>\n",
              "    </tr>\n",
              "    <tr>\n",
              "      <th>2017-03-28</th>\n",
              "      <td>601.22870</td>\n",
              "      <td>2454.68628</td>\n",
              "      <td>692.06396</td>\n",
              "      <td>1108.58862</td>\n",
              "      <td>1026.91064</td>\n",
              "    </tr>\n",
              "    <tr>\n",
              "      <th>2017-03-29</th>\n",
              "      <td>606.48932</td>\n",
              "      <td>2460.11743</td>\n",
              "      <td>696.15723</td>\n",
              "      <td>1115.27246</td>\n",
              "      <td>1036.86072</td>\n",
              "    </tr>\n",
              "    <tr>\n",
              "      <th>2017-03-30</th>\n",
              "      <td>613.24609</td>\n",
              "      <td>2452.94849</td>\n",
              "      <td>714.47974</td>\n",
              "      <td>1113.62976</td>\n",
              "      <td>1038.80237</td>\n",
              "    </tr>\n",
              "  </tbody>\n",
              "</table>\n",
              "<p>492 rows × 5 columns</p>\n",
              "</div>"
            ],
            "text/plain": [
              "            Adj Close  Adj Close  Adj Close  Adj Close  Adj Close\n",
              "Date                                                             \n",
              "2015-04-01  394.76492 1680.06702  495.67850 1115.86743  784.87573\n",
              "2015-04-06  389.38205 1693.87488  495.05484 1117.90820  787.55029\n",
              "2015-04-07  393.25388 1742.24414  495.43863 1134.45288  797.77075\n",
              "2015-04-08  408.85944 1746.36145  496.78186 1159.20471  808.89868\n",
              "2015-04-09  422.64703 1745.57129  506.64023 1169.36450  814.91638\n",
              "...               ...        ...        ...        ...        ...\n",
              "2017-03-24  621.01630 2470.45801  694.08618 1107.33398 1033.12341\n",
              "2017-03-27  603.81079 2440.39136  687.02039 1100.42249 1012.39783\n",
              "2017-03-28  601.22870 2454.68628  692.06396 1108.58862 1026.91064\n",
              "2017-03-29  606.48932 2460.11743  696.15723 1115.27246 1036.86072\n",
              "2017-03-30  613.24609 2452.94849  714.47974 1113.62976 1038.80237\n",
              "\n",
              "[492 rows x 5 columns]"
            ]
          },
          "metadata": {},
          "execution_count": 42
        }
      ]
    },
    {
      "cell_type": "code",
      "metadata": {
        "id": "tz_TZO_Rv9Tc",
        "colab": {
          "base_uri": "https://localhost:8080/",
          "height": 300
        },
        "outputId": "8d77c086-c73c-45ab-9ef6-f1d520997234"
      },
      "source": [
        "data.sort_index(inplace=True)\n",
        "\n",
        "#convert daily stock prices into daily returns\n",
        "returns = data.pct_change()\n",
        "\n",
        "#calculate mean daily return and covariance of daily returns\n",
        "mean_daily_returns = returns.mean()\n",
        "cov_matrix = returns.cov()\n",
        "\n",
        "#set number of runs of random portfolio weights\n",
        "num_portfolios = 25000\n",
        "\n",
        "#set up array to hold results\n",
        "#We have increased the size of the array to hold the weight values for each stock\n",
        "results = np.zeros((4+len(stocks)-1,num_portfolios))\n",
        "\n",
        "for i in range(num_portfolios):\n",
        "    #select random weights for portfolio holdings\n",
        "    weights = np.array(np.random.random(5))\n",
        "    #rebalance weights to sum to 1\n",
        "    weights /= np.sum(weights)\n",
        "    \n",
        "    #calculate portfolio return and volatility\n",
        "    portfolio_return = np.sum(mean_daily_returns * weights) * 252\n",
        "    portfolio_std_dev = np.sqrt(np.dot(weights.T,np.dot(cov_matrix, weights))) * np.sqrt(252)\n",
        "    \n",
        "    #store results in results array\n",
        "    results[0,i] = portfolio_return\n",
        "    results[1,i] = portfolio_std_dev\n",
        "    #store Sharpe Ratio (return / volatility) - risk free rate element excluded for simplicity\n",
        "    results[2,i] = results[0,i] / results[1,i]\n",
        "    #iterate through the weight vector and add data to results array\n",
        "    for j in range(len(weights)):\n",
        "        results[j+3,i] = weights[j]\n",
        "\n",
        "#convert results array to Pandas DataFrame\n",
        "results_frame = pd.DataFrame(results.T,columns=['ret','stdev','sharpe',stocks[0],stocks[1],stocks[2],stocks[3],stocks[4]])\n",
        "\n",
        "#locate position of portfolio with highest Sharpe Ratio\n",
        "max_sharpe_port = results_frame.iloc[results_frame['sharpe'].idxmax()]\n",
        "#locate positon of portfolio with minimum standard deviation\n",
        "min_vol_port = results_frame.iloc[results_frame['stdev'].idxmin()]\n",
        "\n",
        "#create scatter plot coloured by Sharpe Ratio\n",
        "plt.scatter(results_frame.stdev,results_frame.ret,c=results_frame.sharpe,cmap='RdYlBu')\n",
        "plt.xlabel('Volatility')\n",
        "plt.ylabel('Returns')\n",
        "plt.colorbar()\n",
        "#plot red star to highlight position of portfolio with highest Sharpe Ratio\n",
        "plt.scatter(max_sharpe_port[1],max_sharpe_port[0],marker=(5,1,0),color='r',s=1000)\n",
        "#plot green star to highlight position of minimum variance portfolio\n",
        "plt.scatter(min_vol_port[1],min_vol_port[0],marker=(5,1,0),color='g',s=1000)"
      ],
      "execution_count": null,
      "outputs": [
        {
          "output_type": "execute_result",
          "data": {
            "text/plain": [
              "<matplotlib.collections.PathCollection at 0x7f3196e12e50>"
            ]
          },
          "metadata": {},
          "execution_count": 44
        },
        {
          "output_type": "display_data",
          "data": {
            "image/png": "[encoded data removed]",
            "text/plain": [
              "<Figure size 432x288 with 2 Axes>"
            ]
          },
          "metadata": {
            "needs_background": "light"
          }
        }
      ]
    },
    {
      "cell_type": "code",
      "metadata": {
        "colab": {
          "base_uri": "https://localhost:8080/"
        },
        "id": "ZlHlqHfv5L1Z",
        "outputId": "440e7891-ae92-47d1-ab20-73da9f0b20da"
      },
      "source": [
        "print(max_sharpe_port)"
      ],
      "execution_count": null,
      "outputs": [
        {
          "output_type": "stream",
          "name": "stdout",
          "text": [
            "ret             0.21695\n",
            "stdev           0.15473\n",
            "sharpe          1.40214\n",
            "RELIANCE.NS     0.22069\n",
            "BAJAJ-AUTO.NS   0.18548\n",
            "HDFCBANK.NS     0.54405\n",
            "TCS.NS          0.00031\n",
            "ASIANPAINT.NS   0.04947\n",
            "Name: 16478, dtype: float64\n"
          ]
        }
      ]
    },
    {
      "cell_type": "code",
      "metadata": {
        "colab": {
          "base_uri": "https://localhost:8080/"
        },
        "id": "Kg5_uhoY9dNT",
        "outputId": "bf0e70b1-9546-4bb0-9f21-c6cf41365665"
      },
      "source": [
        "print(min_vol_port)"
      ],
      "execution_count": null,
      "outputs": [
        {
          "output_type": "stream",
          "name": "stdout",
          "text": [
            "ret             0.15926\n",
            "stdev           0.13908\n",
            "sharpe          1.14509\n",
            "RELIANCE.NS     0.08492\n",
            "BAJAJ-AUTO.NS   0.04637\n",
            "HDFCBANK.NS     0.50496\n",
            "TCS.NS          0.25308\n",
            "ASIANPAINT.NS   0.11067\n",
            "Name: 9928, dtype: float64\n"
          ]
        }
      ]
    },
    {
      "cell_type": "code",
      "metadata": {
        "id": "Qatn8Iyt9deR"
      },
      "source": [
        ""
      ],
      "execution_count": null,
      "outputs": []
    }
  ]
}